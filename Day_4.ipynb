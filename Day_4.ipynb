{
  "nbformat": 4,
  "nbformat_minor": 0,
  "metadata": {
    "colab": {
      "name": "Day 4.ipynb",
      "provenance": [],
      "authorship_tag": "ABX9TyOYCegdy8U9gN2JqLyvo3N9",
      "include_colab_link": true
    },
    "kernelspec": {
      "name": "python3",
      "display_name": "Python 3"
    },
    "language_info": {
      "name": "python"
    }
  },
  "cells": [
    {
      "cell_type": "markdown",
      "metadata": {
        "id": "view-in-github",
        "colab_type": "text"
      },
      "source": [
        "<a href=\"https://colab.research.google.com/github/aysha2m/WTM-GDG-Bambili-100-Days-of-Code-Datascience/blob/main/Day_4.ipynb\" target=\"_parent\"><img src=\"https://colab.research.google.com/assets/colab-badge.svg\" alt=\"Open In Colab\"/></a>"
      ]
    },
    {
      "cell_type": "code",
      "metadata": {
        "id": "wTlUYA6UtLtj"
      },
      "source": [
        "list1=[\"hello\" , 1, \"world\" , 2]"
      ],
      "execution_count": 1,
      "outputs": []
    },
    {
      "cell_type": "code",
      "metadata": {
        "colab": {
          "base_uri": "https://localhost:8080/"
        },
        "id": "ivISAVSiuzSh",
        "outputId": "479e1cbf-40bb-4463-a95f-e1cbf928e5f2"
      },
      "source": [
        "print(list1)"
      ],
      "execution_count": 2,
      "outputs": [
        {
          "output_type": "stream",
          "name": "stdout",
          "text": [
            "['hello', 1, 'world', 2]\n"
          ]
        }
      ]
    },
    {
      "cell_type": "code",
      "metadata": {
        "id": "S04IarILu8pp"
      },
      "source": [
        "list1=[\"yes\" ,\"no\", \"okay\", \"bye\", \"go\", 1, 2, 3, 4, 1.2, 2.3, 3.4, 4.5, 5.6]"
      ],
      "execution_count": 3,
      "outputs": []
    },
    {
      "cell_type": "code",
      "metadata": {
        "id": "1CoJ7a7ZwCJn"
      },
      "source": [
        "var1=\"hello\" + \"world\""
      ],
      "execution_count": 4,
      "outputs": []
    },
    {
      "cell_type": "code",
      "metadata": {
        "id": "SfQhaq2vxsfV"
      },
      "source": [
        "list1 .append(var1)"
      ],
      "execution_count": 6,
      "outputs": []
    },
    {
      "cell_type": "code",
      "metadata": {
        "id": "_CM0qa0Yx84t"
      },
      "source": [
        "list4=[1, 2, 3, 4 ,5, 1.2, 1.3, 1.4, 1.5, 1.6, 1.7, \"maybe\", \"also\", \"away\", \"hey\"]"
      ],
      "execution_count": 8,
      "outputs": []
    },
    {
      "cell_type": "code",
      "metadata": {
        "colab": {
          "base_uri": "https://localhost:8080/"
        },
        "id": "TD_i-Z9n2MdK",
        "outputId": "d3cf209a-3b6b-4d57-965d-1156b9e93e1e"
      },
      "source": [
        "list5=list1 + list4\n",
        "print(list5)"
      ],
      "execution_count": 11,
      "outputs": [
        {
          "output_type": "stream",
          "name": "stdout",
          "text": [
            "['yes', 'no', 'okay', 'bye', 'go', 1, 2, 3, 4, 1.2, 2.3, 3.4, 4.5, 5.6, 'helloworld', 1, 2, 3, 4, 5, 1.2, 1.3, 1.4, 1.5, 1.6, 1.7, 'maybe', 'also', 'away', 'hey']\n"
          ]
        }
      ]
    },
    {
      "cell_type": "code",
      "metadata": {
        "id": "61_poMyk21Fn"
      },
      "source": [
        "list2=[5, 6, 7.0, \"Eight\", \"Nine\",]"
      ],
      "execution_count": 12,
      "outputs": []
    },
    {
      "cell_type": "code",
      "metadata": {
        "id": "xuQ9XKDZ3LM0"
      },
      "source": [
        "list3=[\"int\", \"int\", \"float\", \"string\", \"string\"]"
      ],
      "execution_count": 1,
      "outputs": []
    }
  ]
}
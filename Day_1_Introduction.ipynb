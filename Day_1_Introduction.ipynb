{
  "nbformat": 4,
  "nbformat_minor": 0,
  "metadata": {
    "colab": {
      "name": "Day 1 - Introduction.ipynb",
      "provenance": [],
      "collapsed_sections": [],
      "authorship_tag": "ABX9TyNH0p+GQXvQvA0W+XncSBgX",
      "include_colab_link": true
    },
    "kernelspec": {
      "name": "python3",
      "display_name": "Python 3"
    },
    "language_info": {
      "name": "python"
    }
  },
  "cells": [
    {
      "cell_type": "markdown",
      "metadata": {
        "id": "view-in-github",
        "colab_type": "text"
      },
      "source": [
        "<a href=\"https://colab.research.google.com/github/aysha2m/WTM-GDG-Bambili-100-Days-of-Code-Datascience/blob/main/Day_1_Introduction.ipynb\" target=\"_parent\"><img src=\"https://colab.research.google.com/assets/colab-badge.svg\" alt=\"Open In Colab\"/></a>"
      ]
    },
    {
      "cell_type": "code",
      "metadata": {
        "colab": {
          "base_uri": "https://localhost:8080/"
        },
        "id": "Yq4Jy7PYNCY2",
        "outputId": "a39e7845-f484-4953-a5dc-644cc4fa2d7d"
      },
      "source": [
        "print('hello world')"
      ],
      "execution_count": null,
      "outputs": [
        {
          "output_type": "stream",
          "text": [
            "hello world\n"
          ],
          "name": "stdout"
        }
      ]
    },
    {
      "cell_type": "code",
      "metadata": {
        "id": "1ELGGko-Peib"
      },
      "source": [
        "sample_variable=None"
      ],
      "execution_count": 4,
      "outputs": []
    },
    {
      "cell_type": "code",
      "metadata": {
        "id": "wLKY41GaUKFm"
      },
      "source": [
        "#sample_variable=none\n",
        "#sample_variable=output\n",
        "#sample_variable=work\n",
        "#sample_variable=play\n",
        "#sample_variable=valid"
      ],
      "execution_count": 15,
      "outputs": []
    },
    {
      "cell_type": "code",
      "metadata": {
        "id": "f2oWJM5bWaaE"
      },
      "source": [
        "sample_variable=\"Hello world\""
      ],
      "execution_count": 16,
      "outputs": []
    },
    {
      "cell_type": "code",
      "metadata": {
        "colab": {
          "base_uri": "https://localhost:8080/"
        },
        "id": "0iAUTTygXGXI",
        "outputId": "565dd4db-a7d4-48b4-ca2a-df26af80ea0d"
      },
      "source": [
        "print(sample_variable)"
      ],
      "execution_count": 17,
      "outputs": [
        {
          "output_type": "stream",
          "name": "stdout",
          "text": [
            "Hello world\n"
          ]
        }
      ]
    },
    {
      "cell_type": "code",
      "metadata": {
        "id": "C6qOZNnQZCF4"
      },
      "source": [
        "var1=2+2"
      ],
      "execution_count": 18,
      "outputs": []
    },
    {
      "cell_type": "markdown",
      "metadata": {
        "id": "pOXNNWZkjVwA"
      },
      "source": [
        "addition"
      ]
    },
    {
      "cell_type": "code",
      "metadata": {
        "colab": {
          "base_uri": "https://localhost:8080/"
        },
        "id": "PFu9paXDZjUC",
        "outputId": "09c1a1bf-4bdf-40fe-9c5c-e530324320fa"
      },
      "source": [
        "print(var1)"
      ],
      "execution_count": 20,
      "outputs": [
        {
          "output_type": "stream",
          "name": "stdout",
          "text": [
            "4\n"
          ]
        }
      ]
    },
    {
      "cell_type": "code",
      "metadata": {
        "id": "bzI1K6mqaCJL"
      },
      "source": [
        "#var1 is an interger"
      ],
      "execution_count": 25,
      "outputs": []
    },
    {
      "cell_type": "code",
      "metadata": {
        "id": "8UxayLD3cN-g"
      },
      "source": [
        "var2=3+2/5"
      ],
      "execution_count": 27,
      "outputs": []
    },
    {
      "cell_type": "markdown",
      "metadata": {
        "id": "BdLB2-Vljfyq"
      },
      "source": [
        "addition and division"
      ]
    },
    {
      "cell_type": "code",
      "metadata": {
        "colab": {
          "base_uri": "https://localhost:8080/"
        },
        "id": "DdAAzl_KcYIl",
        "outputId": "71bd2dd6-fdbc-43b8-d684-7c91b881889f"
      },
      "source": [
        "print(var2)"
      ],
      "execution_count": 29,
      "outputs": [
        {
          "output_type": "stream",
          "name": "stdout",
          "text": [
            "3.4\n"
          ]
        }
      ]
    },
    {
      "cell_type": "code",
      "metadata": {
        "id": "yklRzoeHcift"
      },
      "source": [
        "#var2 is a float"
      ],
      "execution_count": 30,
      "outputs": []
    },
    {
      "cell_type": "code",
      "metadata": {
        "colab": {
          "base_uri": "https://localhost:8080/"
        },
        "id": "A7KumRzucqCN",
        "outputId": "6e45db6b-039b-4a7b-c18e-dc67b45d1fb9"
      },
      "source": [
        "var3=4*16\n",
        "print(var3)"
      ],
      "execution_count": 31,
      "outputs": [
        {
          "output_type": "stream",
          "name": "stdout",
          "text": [
            "64\n"
          ]
        }
      ]
    },
    {
      "cell_type": "markdown",
      "metadata": {
        "id": "ZenB6nmpj4aC"
      },
      "source": [
        "multiplication"
      ]
    },
    {
      "cell_type": "code",
      "metadata": {
        "id": "NvIubAgvdFDG"
      },
      "source": [
        "#var3 is an interger"
      ],
      "execution_count": 32,
      "outputs": []
    },
    {
      "cell_type": "code",
      "metadata": {
        "id": "xofqQRmtdLQz"
      },
      "source": [
        "var4=4^6"
      ],
      "execution_count": 36,
      "outputs": []
    },
    {
      "cell_type": "code",
      "metadata": {
        "colab": {
          "base_uri": "https://localhost:8080/"
        },
        "id": "7rwVvdA0du9M",
        "outputId": "3b80b4fb-04cb-4f04-dea4-3ab6b058683a"
      },
      "source": [
        "print(var4)"
      ],
      "execution_count": 38,
      "outputs": [
        {
          "output_type": "stream",
          "name": "stdout",
          "text": [
            "2\n"
          ]
        }
      ]
    },
    {
      "cell_type": "code",
      "metadata": {
        "id": "KK6xOgZLeR5M"
      },
      "source": [
        "#var4 is of data type interger"
      ],
      "execution_count": 39,
      "outputs": []
    },
    {
      "cell_type": "code",
      "metadata": {
        "colab": {
          "base_uri": "https://localhost:8080/"
        },
        "id": "c8dao5AqfeLD",
        "outputId": "4781a12d-a033-489c-c224-467373001295"
      },
      "source": [
        "var5='hello'+''+'world'\n",
        "print(var5)"
      ],
      "execution_count": 40,
      "outputs": [
        {
          "output_type": "stream",
          "name": "stdout",
          "text": [
            "helloworld\n"
          ]
        }
      ]
    },
    {
      "cell_type": "code",
      "metadata": {
        "id": "XV74gBysgA66"
      },
      "source": [
        "#var5 is a string"
      ],
      "execution_count": 41,
      "outputs": []
    },
    {
      "cell_type": "code",
      "metadata": {
        "colab": {
          "base_uri": "https://localhost:8080/"
        },
        "id": "ASL0s4lGgQT2",
        "outputId": "6d47949e-7221-404f-9bd6-c7edb89aca76"
      },
      "source": [
        "var6='hello world' *5\n",
        "print(var6)"
      ],
      "execution_count": 48,
      "outputs": [
        {
          "output_type": "stream",
          "name": "stdout",
          "text": [
            "hello worldhello worldhello worldhello worldhello world\n"
          ]
        }
      ]
    },
    {
      "cell_type": "markdown",
      "metadata": {
        "id": "4ymDRbTukJHa"
      },
      "source": [
        "string addition"
      ]
    },
    {
      "cell_type": "code",
      "metadata": {
        "id": "lxiGccE6gN71"
      },
      "source": [
        "#var6 is string"
      ],
      "execution_count": 43,
      "outputs": []
    },
    {
      "cell_type": "code",
      "metadata": {
        "colab": {
          "base_uri": "https://localhost:8080/",
          "height": 129
        },
        "id": "y5kgTlvBg2dy",
        "outputId": "9e3a3328-ab0a-409c-d58e-c75f24433a6d"
      },
      "source": [
        "var7=4 mod 3"
      ],
      "execution_count": 50,
      "outputs": [
        {
          "output_type": "error",
          "ename": "SyntaxError",
          "evalue": "ignored",
          "traceback": [
            "\u001b[0;36m  File \u001b[0;32m\"<ipython-input-50-28036e2e6bad>\"\u001b[0;36m, line \u001b[0;32m1\u001b[0m\n\u001b[0;31m    var7=4 mod 3\u001b[0m\n\u001b[0m             ^\u001b[0m\n\u001b[0;31mSyntaxError\u001b[0m\u001b[0;31m:\u001b[0m invalid syntax\n"
          ]
        }
      ]
    },
    {
      "cell_type": "code",
      "metadata": {
        "id": "OQ-ys9WIgzSJ"
      },
      "source": [
        "#var7 is invalid"
      ],
      "execution_count": null,
      "outputs": []
    }
  ]
}
{
  "nbformat": 4,
  "nbformat_minor": 0,
  "metadata": {
    "colab": {
      "name": "Day 6.ipynb",
      "provenance": [],
      "authorship_tag": "ABX9TyNgZYizpNb5NtgU3IVOZhX4",
      "include_colab_link": true
    },
    "kernelspec": {
      "name": "python3",
      "display_name": "Python 3"
    },
    "language_info": {
      "name": "python"
    }
  },
  "cells": [
    {
      "cell_type": "markdown",
      "metadata": {
        "id": "view-in-github",
        "colab_type": "text"
      },
      "source": [
        "<a href=\"https://colab.research.google.com/github/aysha2m/WTM-GDG-Bambili-100-Days-of-Code-Datascience/blob/main/Day_6.ipynb\" target=\"_parent\"><img src=\"https://colab.research.google.com/assets/colab-badge.svg\" alt=\"Open In Colab\"/></a>"
      ]
    },
    {
      "cell_type": "code",
      "metadata": {
        "id": "Wvk9Ye5Eo52B"
      },
      "source": [
        "x=set(<iter>)"
      ],
      "execution_count": null,
      "outputs": []
    },
    {
      "cell_type": "code",
      "metadata": {
        "colab": {
          "base_uri": "https://localhost:8080/"
        },
        "id": "PEYC372xtJnH",
        "outputId": "933548ef-36ce-46e3-a834-2cd285d59f7a"
      },
      "source": [
        " x=set(['play', 'yes','ok', 'lol', 'bye'])\n",
        "\n",
        " x"
      ],
      "execution_count": 7,
      "outputs": [
        {
          "output_type": "execute_result",
          "data": {
            "text/plain": [
              "{'bye', 'lol', 'ok', 'play', 'yes'}"
            ]
          },
          "metadata": {},
          "execution_count": 7
        }
      ]
    },
    {
      "cell_type": "code",
      "metadata": {
        "colab": {
          "base_uri": "https://localhost:8080/"
        },
        "id": "uZoVrDbw1AKm",
        "outputId": "b15ddeb4-aa94-4af8-d2e1-76ec952ae958"
      },
      "source": [
        "s='play'\n",
        "list(s)"
      ],
      "execution_count": 9,
      "outputs": [
        {
          "output_type": "execute_result",
          "data": {
            "text/plain": [
              "['p', 'l', 'a', 'y']"
            ]
          },
          "metadata": {},
          "execution_count": 9
        }
      ]
    },
    {
      "cell_type": "code",
      "metadata": {
        "colab": {
          "base_uri": "https://localhost:8080/"
        },
        "id": "lZk3SrRNFPBW",
        "outputId": "67d41440-5a76-4bf6-f21f-2f14f5e04084"
      },
      "source": [
        "set(s)"
      ],
      "execution_count": 10,
      "outputs": [
        {
          "output_type": "execute_result",
          "data": {
            "text/plain": [
              "{'a', 'l', 'p', 'y'}"
            ]
          },
          "metadata": {},
          "execution_count": 10
        }
      ]
    },
    {
      "cell_type": "code",
      "metadata": {
        "colab": {
          "base_uri": "https://localhost:8080/"
        },
        "id": "cn9aAi_lFch3",
        "outputId": "b2b1fc13-a343-4e3b-cacb-a3bea8831b04"
      },
      "source": [
        "x={'play','yes','bye','lol','ok'}\n",
        "\n",
        "x"
      ],
      "execution_count": 12,
      "outputs": [
        {
          "output_type": "execute_result",
          "data": {
            "text/plain": [
              "{'bye', 'lol', 'ok', 'play', 'yes'}"
            ]
          },
          "metadata": {},
          "execution_count": 12
        }
      ]
    },
    {
      "cell_type": "code",
      "metadata": {
        "colab": {
          "base_uri": "https://localhost:8080/"
        },
        "id": "t-GTT0F_HOcq",
        "outputId": "bbbe44a3-4f58-4c4e-c4d3-cfffb45418a1"
      },
      "source": [
        "x={'p','l','a','a','y'}\n",
        "\n",
        "x"
      ],
      "execution_count": 14,
      "outputs": [
        {
          "output_type": "execute_result",
          "data": {
            "text/plain": [
              "{'a', 'l', 'p', 'y'}"
            ]
          },
          "metadata": {},
          "execution_count": 14
        }
      ]
    },
    {
      "cell_type": "code",
      "metadata": {
        "colab": {
          "base_uri": "https://localhost:8080/"
        },
        "id": "IUBV4SgcH3nG",
        "outputId": "e3abf05f-701e-42dc-92a3-7bec79fe1e6a"
      },
      "source": [
        "{'plaay'}\n"
      ],
      "execution_count": 16,
      "outputs": [
        {
          "output_type": "execute_result",
          "data": {
            "text/plain": [
              "{'plaay'}"
            ]
          },
          "metadata": {},
          "execution_count": 16
        }
      ]
    },
    {
      "cell_type": "code",
      "metadata": {
        "colab": {
          "base_uri": "https://localhost:8080/"
        },
        "id": "cQ7O_birID7s",
        "outputId": "4f61dc38-68ca-47ca-abda-f047934638c7"
      },
      "source": [
        "set('play')"
      ],
      "execution_count": 17,
      "outputs": [
        {
          "output_type": "execute_result",
          "data": {
            "text/plain": [
              "{'a', 'l', 'p', 'y'}"
            ]
          },
          "metadata": {},
          "execution_count": 17
        }
      ]
    },
    {
      "cell_type": "code",
      "metadata": {
        "colab": {
          "base_uri": "https://localhost:8080/"
        },
        "id": "EK_Lnm15IIiQ",
        "outputId": "31718a1c-fb72-4fa0-bf62-ffc0d528bb13"
      },
      "source": [
        "x=set()\n",
        "type(x)"
      ],
      "execution_count": 19,
      "outputs": [
        {
          "output_type": "execute_result",
          "data": {
            "text/plain": [
              "set"
            ]
          },
          "metadata": {},
          "execution_count": 19
        }
      ]
    },
    {
      "cell_type": "code",
      "metadata": {
        "colab": {
          "base_uri": "https://localhost:8080/"
        },
        "id": "-E5nIIgpIifl",
        "outputId": "cbfbe44d-a6c1-4833-bc08-9dd768425509"
      },
      "source": [
        "x={}\n",
        "type(x)"
      ],
      "execution_count": 20,
      "outputs": [
        {
          "output_type": "execute_result",
          "data": {
            "text/plain": [
              "dict"
            ]
          },
          "metadata": {},
          "execution_count": 20
        }
      ]
    },
    {
      "cell_type": "code",
      "metadata": {
        "colab": {
          "base_uri": "https://localhost:8080/"
        },
        "id": "NCIC2hBAI6QC",
        "outputId": "878009a0-3016-4a53-f6ae-ef4fd47e8e82"
      },
      "source": [
        "x=set()\n",
        "bool(x)"
      ],
      "execution_count": 21,
      "outputs": [
        {
          "output_type": "execute_result",
          "data": {
            "text/plain": [
              "False"
            ]
          },
          "metadata": {},
          "execution_count": 21
        }
      ]
    },
    {
      "cell_type": "code",
      "metadata": {
        "colab": {
          "base_uri": "https://localhost:8080/"
        },
        "id": "QWbsIM6XJR1T",
        "outputId": "9ee018bb-8540-4f7e-8cc3-855b75dd2593"
      },
      "source": [
        "x or 1"
      ],
      "execution_count": 22,
      "outputs": [
        {
          "output_type": "execute_result",
          "data": {
            "text/plain": [
              "1"
            ]
          },
          "metadata": {},
          "execution_count": 22
        }
      ]
    },
    {
      "cell_type": "code",
      "metadata": {
        "colab": {
          "base_uri": "https://localhost:8080/"
        },
        "id": "p_moZTtFJdw5",
        "outputId": "15c19719-eae5-46a4-c15c-9103f8669698"
      },
      "source": [
        "x and 1"
      ],
      "execution_count": 23,
      "outputs": [
        {
          "output_type": "execute_result",
          "data": {
            "text/plain": [
              "set()"
            ]
          },
          "metadata": {},
          "execution_count": 23
        }
      ]
    },
    {
      "cell_type": "code",
      "metadata": {
        "colab": {
          "base_uri": "https://localhost:8080/"
        },
        "id": "upCvPOj0Jhgv",
        "outputId": "f0c89bf4-8a4b-4b50-ee61-20716914f220"
      },
      "source": [
        "x={2, 5, 3.55, (1,2,3), 'okay'}\n",
        "x"
      ],
      "execution_count": 25,
      "outputs": [
        {
          "output_type": "execute_result",
          "data": {
            "text/plain": [
              "{(1, 2, 3), 2, 3.55, 5, 'okay'}"
            ]
          },
          "metadata": {},
          "execution_count": 25
        }
      ]
    },
    {
      "cell_type": "code",
      "metadata": {
        "colab": {
          "base_uri": "https://localhost:8080/"
        },
        "id": "0qKGz9VaKCuO",
        "outputId": "f2c17ce3-758a-426d-b21e-24c1a4e7ddde"
      },
      "source": [
        "x={'play', 'okay', 'yes'}\n",
        "len(x)"
      ],
      "execution_count": 26,
      "outputs": [
        {
          "output_type": "execute_result",
          "data": {
            "text/plain": [
              "3"
            ]
          },
          "metadata": {},
          "execution_count": 26
        }
      ]
    },
    {
      "cell_type": "code",
      "metadata": {
        "colab": {
          "base_uri": "https://localhost:8080/"
        },
        "id": "_FIE37RuKzcz",
        "outputId": "e2dbcfb2-b886-47d4-ff4b-79b7861711ac"
      },
      "source": [
        "'okay' in x"
      ],
      "execution_count": 27,
      "outputs": [
        {
          "output_type": "execute_result",
          "data": {
            "text/plain": [
              "True"
            ]
          },
          "metadata": {},
          "execution_count": 27
        }
      ]
    },
    {
      "cell_type": "code",
      "metadata": {
        "colab": {
          "base_uri": "https://localhost:8080/"
        },
        "id": "BIhW-uYqK4PC",
        "outputId": "17318e2f-6ea9-427f-a361-2ea5f3987d41"
      },
      "source": [
        "'lol' in x"
      ],
      "execution_count": 28,
      "outputs": [
        {
          "output_type": "execute_result",
          "data": {
            "text/plain": [
              "False"
            ]
          },
          "metadata": {},
          "execution_count": 28
        }
      ]
    },
    {
      "cell_type": "code",
      "metadata": {
        "colab": {
          "base_uri": "https://localhost:8080/"
        },
        "id": "zAfQu6LhLQKx",
        "outputId": "0da90f78-7192-4c62-ca32-72b7a335c6bd"
      },
      "source": [
        "'yes' not in x"
      ],
      "execution_count": 30,
      "outputs": [
        {
          "output_type": "execute_result",
          "data": {
            "text/plain": [
              "False"
            ]
          },
          "metadata": {},
          "execution_count": 30
        }
      ]
    },
    {
      "cell_type": "code",
      "metadata": {
        "colab": {
          "base_uri": "https://localhost:8080/"
        },
        "id": "4tVQnbDPLbDi",
        "outputId": "d238a1b4-ee87-479d-8d83-4287a7cdb109"
      },
      "source": [
        "x1={1, 2, 3, 4, 5}\n",
        "\n",
        "x2={2, 4, 6, 8}\n",
        "\n",
        "x3={3,5,7,9,4}\n",
        "\n",
        "x4={4,5,6,7,10}\n",
        "\n",
        "x1|x2"
      ],
      "execution_count": 39,
      "outputs": [
        {
          "output_type": "execute_result",
          "data": {
            "text/plain": [
              "{1, 2, 3, 4, 5, 6, 8}"
            ]
          },
          "metadata": {},
          "execution_count": 39
        }
      ]
    },
    {
      "cell_type": "code",
      "metadata": {
        "colab": {
          "base_uri": "https://localhost:8080/"
        },
        "id": "JsRY9WTjMTe1",
        "outputId": "db9eeb37-b3c1-4763-ffa5-e37cecdfb6fa"
      },
      "source": [
        "x1.union(x2)"
      ],
      "execution_count": 32,
      "outputs": [
        {
          "output_type": "execute_result",
          "data": {
            "text/plain": [
              "{1, 2, 3, 4, 5, 6, 8}"
            ]
          },
          "metadata": {},
          "execution_count": 32
        }
      ]
    },
    {
      "cell_type": "code",
      "metadata": {
        "colab": {
          "base_uri": "https://localhost:8080/"
        },
        "id": "M4m6S0dwMY0u",
        "outputId": "bf32c38b-c964-489b-8ea0-03e8df2a6be0"
      },
      "source": [
        "x1|x2|x3|x4"
      ],
      "execution_count": 40,
      "outputs": [
        {
          "output_type": "execute_result",
          "data": {
            "text/plain": [
              "{1, 2, 3, 4, 5, 6, 7, 8, 9, 10}"
            ]
          },
          "metadata": {},
          "execution_count": 40
        }
      ]
    },
    {
      "cell_type": "code",
      "metadata": {
        "colab": {
          "base_uri": "https://localhost:8080/"
        },
        "id": "XnMhsr0hNxyE",
        "outputId": "956ba484-7e01-41f6-ef65-73bd9abd96b0"
      },
      "source": [
        "x1.union(x2,x3,x4)"
      ],
      "execution_count": 35,
      "outputs": [
        {
          "output_type": "execute_result",
          "data": {
            "text/plain": [
              "{1, 2, 3, 4, 5, 6, 7, 8, 9, 10}"
            ]
          },
          "metadata": {},
          "execution_count": 35
        }
      ]
    },
    {
      "cell_type": "code",
      "metadata": {
        "colab": {
          "base_uri": "https://localhost:8080/"
        },
        "id": "5kHFrqPIN45p",
        "outputId": "442ad8e0-6ffd-4826-a62e-40bed309e0f0"
      },
      "source": [
        "x1.intersection(x2)"
      ],
      "execution_count": 36,
      "outputs": [
        {
          "output_type": "execute_result",
          "data": {
            "text/plain": [
              "{2, 4}"
            ]
          },
          "metadata": {},
          "execution_count": 36
        }
      ]
    },
    {
      "cell_type": "code",
      "metadata": {
        "colab": {
          "base_uri": "https://localhost:8080/"
        },
        "id": "9vfNLEsaOP3j",
        "outputId": "a1741200-25bc-4391-9743-8ffb197523b3"
      },
      "source": [
        "x1&x2"
      ],
      "execution_count": 37,
      "outputs": [
        {
          "output_type": "execute_result",
          "data": {
            "text/plain": [
              "{2, 4}"
            ]
          },
          "metadata": {},
          "execution_count": 37
        }
      ]
    },
    {
      "cell_type": "code",
      "metadata": {
        "colab": {
          "base_uri": "https://localhost:8080/"
        },
        "id": "nfJSx0shOTLw",
        "outputId": "d694791e-0565-46ec-f70b-5d86a3f36183"
      },
      "source": [
        "x1&x2&x3&x4"
      ],
      "execution_count": 41,
      "outputs": [
        {
          "output_type": "execute_result",
          "data": {
            "text/plain": [
              "{4}"
            ]
          },
          "metadata": {},
          "execution_count": 41
        }
      ]
    },
    {
      "cell_type": "code",
      "metadata": {
        "colab": {
          "base_uri": "https://localhost:8080/"
        },
        "id": "t0eDn8gOOfIs",
        "outputId": "616e2b17-5671-4992-80ff-ab2d3578afff"
      },
      "source": [
        "x1.difference(x2)"
      ],
      "execution_count": 42,
      "outputs": [
        {
          "output_type": "execute_result",
          "data": {
            "text/plain": [
              "{1, 3, 5}"
            ]
          },
          "metadata": {},
          "execution_count": 42
        }
      ]
    },
    {
      "cell_type": "code",
      "metadata": {
        "id": "L4at2JNfPKCh",
        "outputId": "746b406e-e740-4647-ed2a-1fb4c35bae7f",
        "colab": {
          "base_uri": "https://localhost:8080/"
        }
      },
      "source": [
        "x1-x2-x3"
      ],
      "execution_count": 43,
      "outputs": [
        {
          "output_type": "execute_result",
          "data": {
            "text/plain": [
              "{1}"
            ]
          },
          "metadata": {},
          "execution_count": 43
        }
      ]
    },
    {
      "cell_type": "code",
      "metadata": {
        "id": "aLd-Hw2jPQKW",
        "outputId": "e76e299a-1f78-4514-a4a9-23a83c7364d9",
        "colab": {
          "base_uri": "https://localhost:8080/"
        }
      },
      "source": [
        "x1^x2"
      ],
      "execution_count": 47,
      "outputs": [
        {
          "output_type": "execute_result",
          "data": {
            "text/plain": [
              "{1, 3, 5, 6, 8}"
            ]
          },
          "metadata": {},
          "execution_count": 47
        }
      ]
    },
    {
      "cell_type": "code",
      "metadata": {
        "id": "Xbo5F18IP0MQ",
        "outputId": "ec6d4c4b-de8c-4582-e0e5-515dd1f8edf3",
        "colab": {
          "base_uri": "https://localhost:8080/"
        }
      },
      "source": [
        "x1^x2^x3"
      ],
      "execution_count": 48,
      "outputs": [
        {
          "output_type": "execute_result",
          "data": {
            "text/plain": [
              "{1, 4, 6, 7, 8, 9}"
            ]
          },
          "metadata": {},
          "execution_count": 48
        }
      ]
    },
    {
      "cell_type": "code",
      "metadata": {
        "id": "peUPhQvPQysz",
        "outputId": "0f908acf-fd0d-48ec-a849-265ba7403c2e",
        "colab": {
          "base_uri": "https://localhost:8080/"
        }
      },
      "source": [
        "x1.isdisjoint(x2)"
      ],
      "execution_count": 49,
      "outputs": [
        {
          "output_type": "execute_result",
          "data": {
            "text/plain": [
              "False"
            ]
          },
          "metadata": {},
          "execution_count": 49
        }
      ]
    },
    {
      "cell_type": "code",
      "metadata": {
        "id": "aLWY1mFFRkLU",
        "outputId": "abfbb2c0-344a-4a03-c93f-0664676dfca1",
        "colab": {
          "base_uri": "https://localhost:8080/"
        }
      },
      "source": [
        "x1.issubset(x2)"
      ],
      "execution_count": 51,
      "outputs": [
        {
          "output_type": "execute_result",
          "data": {
            "text/plain": [
              "False"
            ]
          },
          "metadata": {},
          "execution_count": 51
        }
      ]
    },
    {
      "cell_type": "code",
      "metadata": {
        "id": "86erBwzVRwj2",
        "outputId": "2613136a-d61c-457e-fb35-26b57a5143c9",
        "colab": {
          "base_uri": "https://localhost:8080/"
        }
      },
      "source": [
        "x1<=x1"
      ],
      "execution_count": 52,
      "outputs": [
        {
          "output_type": "execute_result",
          "data": {
            "text/plain": [
              "True"
            ]
          },
          "metadata": {},
          "execution_count": 52
        }
      ]
    },
    {
      "cell_type": "code",
      "metadata": {
        "id": "yC2gilwOSIch",
        "outputId": "85105b22-db79-4a38-8d41-4adffdcd08aa",
        "colab": {
          "base_uri": "https://localhost:8080/"
        }
      },
      "source": [
        "x1<x2"
      ],
      "execution_count": 53,
      "outputs": [
        {
          "output_type": "execute_result",
          "data": {
            "text/plain": [
              "False"
            ]
          },
          "metadata": {},
          "execution_count": 53
        }
      ]
    },
    {
      "cell_type": "code",
      "metadata": {
        "id": "Jv2sqtFQSZOG",
        "outputId": "693b27af-27ce-479d-bba3-241487b36925",
        "colab": {
          "base_uri": "https://localhost:8080/"
        }
      },
      "source": [
        "x1.issuperset(x2)"
      ],
      "execution_count": 54,
      "outputs": [
        {
          "output_type": "execute_result",
          "data": {
            "text/plain": [
              "False"
            ]
          },
          "metadata": {},
          "execution_count": 54
        }
      ]
    },
    {
      "cell_type": "code",
      "metadata": {
        "id": "9JZI_-6LS1Kj",
        "outputId": "54307f03-56d7-4aa9-a1a6-48096775a01f",
        "colab": {
          "base_uri": "https://localhost:8080/"
        }
      },
      "source": [
        "x1>=x2"
      ],
      "execution_count": 57,
      "outputs": [
        {
          "output_type": "execute_result",
          "data": {
            "text/plain": [
              "False"
            ]
          },
          "metadata": {},
          "execution_count": 57
        }
      ]
    },
    {
      "cell_type": "code",
      "metadata": {
        "id": "Z8M0SD7HS-u7",
        "outputId": "c8ed1108-ba0a-4f5d-a53d-beda5e26c664",
        "colab": {
          "base_uri": "https://localhost:8080/"
        }
      },
      "source": [
        "x1|=x2\n",
        "x1"
      ],
      "execution_count": 60,
      "outputs": [
        {
          "output_type": "execute_result",
          "data": {
            "text/plain": [
              "{1, 2, 3, 4, 5, 6, 8}"
            ]
          },
          "metadata": {},
          "execution_count": 60
        }
      ]
    },
    {
      "cell_type": "code",
      "metadata": {
        "id": "iDd6rHCjUMiV",
        "outputId": "bfcb5c55-b252-49d1-8da1-97e1290c0698",
        "colab": {
          "base_uri": "https://localhost:8080/"
        }
      },
      "source": [
        "x1.update(x2)\n",
        "x1"
      ],
      "execution_count": 62,
      "outputs": [
        {
          "output_type": "execute_result",
          "data": {
            "text/plain": [
              "{1, 2, 3, 4, 5, 6, 8}"
            ]
          },
          "metadata": {},
          "execution_count": 62
        }
      ]
    },
    {
      "cell_type": "code",
      "metadata": {
        "id": "PBt2mENYUZhF",
        "outputId": "9ed8a0cd-dae3-4f64-dcc4-6120d4ca16b5",
        "colab": {
          "base_uri": "https://localhost:8080/"
        }
      },
      "source": [
        "x1&=x2\n",
        "x1"
      ],
      "execution_count": 64,
      "outputs": [
        {
          "output_type": "execute_result",
          "data": {
            "text/plain": [
              "{2, 4, 6, 8}"
            ]
          },
          "metadata": {},
          "execution_count": 64
        }
      ]
    },
    {
      "cell_type": "code",
      "metadata": {
        "id": "0FR6mxjpU5tX",
        "outputId": "e6b1e585-45a9-4b01-9a11-52d043db5db5",
        "colab": {
          "base_uri": "https://localhost:8080/"
        }
      },
      "source": [
        "x1.intersection_update(x2)\n",
        "x1"
      ],
      "execution_count": 65,
      "outputs": [
        {
          "output_type": "execute_result",
          "data": {
            "text/plain": [
              "{2, 4, 6, 8}"
            ]
          },
          "metadata": {},
          "execution_count": 65
        }
      ]
    },
    {
      "cell_type": "code",
      "metadata": {
        "id": "cHgKrxXTVDxs",
        "outputId": "d51b9dee-57e9-4bdf-e2a9-9ce93edf5c9a",
        "colab": {
          "base_uri": "https://localhost:8080/"
        }
      },
      "source": [
        "x1-=x2\n",
        "x1"
      ],
      "execution_count": 67,
      "outputs": [
        {
          "output_type": "execute_result",
          "data": {
            "text/plain": [
              "set()"
            ]
          },
          "metadata": {},
          "execution_count": 67
        }
      ]
    },
    {
      "cell_type": "code",
      "metadata": {
        "id": "4HGTrR2SVTqr",
        "outputId": "2215bf0b-d6a6-4de0-b233-2ff08a6a081f",
        "colab": {
          "base_uri": "https://localhost:8080/"
        }
      },
      "source": [
        "x1.difference_update(x2)\n",
        "x1"
      ],
      "execution_count": 70,
      "outputs": [
        {
          "output_type": "execute_result",
          "data": {
            "text/plain": [
              "set()"
            ]
          },
          "metadata": {},
          "execution_count": 70
        }
      ]
    },
    {
      "cell_type": "code",
      "metadata": {
        "id": "1RuW-DyeVdXS",
        "outputId": "bdcd498e-b921-43ac-e59a-a0dc1c0426ba",
        "colab": {
          "base_uri": "https://localhost:8080/"
        }
      },
      "source": [
        "x1^=x2\n",
        "x1"
      ],
      "execution_count": 72,
      "outputs": [
        {
          "output_type": "execute_result",
          "data": {
            "text/plain": [
              "set()"
            ]
          },
          "metadata": {},
          "execution_count": 72
        }
      ]
    },
    {
      "cell_type": "code",
      "metadata": {
        "id": "RplQAkCUVsWU",
        "outputId": "812b22c5-927a-4d6e-8b8b-966259f41656",
        "colab": {
          "base_uri": "https://localhost:8080/"
        }
      },
      "source": [
        "x3.add(2)\n",
        "x3"
      ],
      "execution_count": 73,
      "outputs": [
        {
          "output_type": "execute_result",
          "data": {
            "text/plain": [
              "{2, 3, 4, 5, 7, 9}"
            ]
          },
          "metadata": {},
          "execution_count": 73
        }
      ]
    },
    {
      "cell_type": "code",
      "metadata": {
        "id": "UUvYDAPNWAEd",
        "outputId": "f78377fc-ae88-4bb9-8407-07998f92b542",
        "colab": {
          "base_uri": "https://localhost:8080/"
        }
      },
      "source": [
        "x4.remove(10)\n",
        "x4"
      ],
      "execution_count": 74,
      "outputs": [
        {
          "output_type": "execute_result",
          "data": {
            "text/plain": [
              "{4, 5, 6, 7}"
            ]
          },
          "metadata": {},
          "execution_count": 74
        }
      ]
    },
    {
      "cell_type": "code",
      "metadata": {
        "id": "hRaYtFGbWFvq",
        "outputId": "660871c2-70f6-40a3-ac82-67df44b9e025",
        "colab": {
          "base_uri": "https://localhost:8080/"
        }
      },
      "source": [
        "x3.discard(3)\n",
        "x3"
      ],
      "execution_count": 76,
      "outputs": [
        {
          "output_type": "execute_result",
          "data": {
            "text/plain": [
              "{2, 4, 5, 7, 9}"
            ]
          },
          "metadata": {},
          "execution_count": 76
        }
      ]
    },
    {
      "cell_type": "code",
      "metadata": {
        "id": "q_ofVwpTWP2F",
        "outputId": "a6e88c14-7653-441a-c7d4-bbb461be99e8",
        "colab": {
          "base_uri": "https://localhost:8080/"
        }
      },
      "source": [
        "x3.pop()"
      ],
      "execution_count": 78,
      "outputs": [
        {
          "output_type": "execute_result",
          "data": {
            "text/plain": [
              "4"
            ]
          },
          "metadata": {},
          "execution_count": 78
        }
      ]
    },
    {
      "cell_type": "code",
      "metadata": {
        "id": "V5bpC59BWpqq",
        "outputId": "b9b220e8-1a14-436d-9375-12661c57525c",
        "colab": {
          "base_uri": "https://localhost:8080/"
        }
      },
      "source": [
        "x3.clear()\n",
        "x3"
      ],
      "execution_count": 80,
      "outputs": [
        {
          "output_type": "execute_result",
          "data": {
            "text/plain": [
              "set()"
            ]
          },
          "metadata": {},
          "execution_count": 80
        }
      ]
    },
    {
      "cell_type": "code",
      "metadata": {
        "id": "7QX54PzYW3ly",
        "outputId": "975b6125-66e2-4c18-8f26-eedbbd6f00ad",
        "colab": {
          "base_uri": "https://localhost:8080/"
        }
      },
      "source": [
        "x=frozenset([1,2,3,4,5])\n",
        "s=(2,3,5,7)\n",
        "len(x)"
      ],
      "execution_count": 83,
      "outputs": [
        {
          "output_type": "execute_result",
          "data": {
            "text/plain": [
              "5"
            ]
          },
          "metadata": {},
          "execution_count": 83
        }
      ]
    },
    {
      "cell_type": "code",
      "metadata": {
        "id": "0_CzBicDXoYl",
        "outputId": "41e81a50-a7d7-4aa4-f14d-cd58a40869f3",
        "colab": {
          "base_uri": "https://localhost:8080/"
        }
      },
      "source": [
        "x&{4,5}"
      ],
      "execution_count": 86,
      "outputs": [
        {
          "output_type": "execute_result",
          "data": {
            "text/plain": [
              "frozenset({4, 5})"
            ]
          },
          "metadata": {},
          "execution_count": 86
        }
      ]
    },
    {
      "cell_type": "code",
      "metadata": {
        "id": "5lgenCFxYALu",
        "outputId": "96a6d487-dc28-48d5-d4f9-15006e59d669",
        "colab": {
          "base_uri": "https://localhost:8080/"
        }
      },
      "source": [
        "x=frozenset({1,2,3})\n",
        "\n",
        "y=frozenset({4,5,6})\n",
        "\n",
        "d={x: 'yes', y: 'okay'}\n",
        "d"
      ],
      "execution_count": 94,
      "outputs": [
        {
          "output_type": "execute_result",
          "data": {
            "text/plain": [
              "{frozenset({1, 2, 3}): 'yes', frozenset({4, 5, 6}): 'okay'}"
            ]
          },
          "metadata": {},
          "execution_count": 94
        }
      ]
    }
  ]
}